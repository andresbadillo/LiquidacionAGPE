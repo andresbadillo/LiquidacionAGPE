{
  "nbformat": 4,
  "nbformat_minor": 0,
  "metadata": {
    "colab": {
      "provenance": [],
      "authorship_tag": "ABX9TyPzLbKphq69Dm1WT51mB00t",
      "include_colab_link": true
    },
    "kernelspec": {
      "name": "python3",
      "display_name": "Python 3"
    },
    "language_info": {
      "name": "python"
    }
  },
  "cells": [
    {
      "cell_type": "markdown",
      "metadata": {
        "id": "view-in-github",
        "colab_type": "text"
      },
      "source": [
        "<a href=\"https://colab.research.google.com/github/andresbadillo/LiquidacionAGPE/blob/master/LiquidacionAGPE.ipynb\" target=\"_parent\"><img src=\"https://colab.research.google.com/assets/colab-badge.svg\" alt=\"Open In Colab\"/></a>"
      ]
    },
    {
      "cell_type": "markdown",
      "source": [
        "En este primer paso se cargan las matrices"
      ],
      "metadata": {
        "id": "YxuPo_VSlq4h"
      }
    },
    {
      "cell_type": "code",
      "source": [
        "# Paso 1: Importar librerías necesarias\n",
        "import pandas as pd\n",
        "from google.colab import files\n",
        "\n",
        "# Paso 2: Crear una función para cargar y leer el archivo Excel\n",
        "def cargar_matriz_consumo():\n",
        "    print(\"Por favor, sube el archivo Excel con las matrices de consumo:\")\n",
        "    archivo_subido = files.upload()  # Sube el archivo desde tu máquina\n",
        "\n",
        "    # Leer el archivo Excel en un DataFrame de pandas\n",
        "    for nombre_archivo in archivo_subido.keys():\n",
        "        try:\n",
        "            df = pd.read_excel(nombre_archivo)\n",
        "            print(f\"Archivo '{nombre_archivo}' cargado con éxito.\")\n",
        "            return df\n",
        "        except Exception as e:\n",
        "            print(f\"Error al leer el archivo '{nombre_archivo}': {e}\")\n",
        "            return None\n",
        "\n",
        "# Paso 3: Llamar a la función para cargar el archivo\n",
        "matriz_consumo = cargar_matriz_consumo()\n",
        "\n",
        "# Paso 4: Mostrar una vista previa del archivo cargado, si es válido\n",
        "if matriz_consumo is not None:\n",
        "    print(\"Vista previa de los datos cargados:\")\n",
        "    print(matriz_consumo.head())\n",
        "else:\n",
        "    print(\"No se pudo cargar el archivo correctamente.\")\n"
      ],
      "metadata": {
        "colab": {
          "base_uri": "https://localhost:8080/",
          "height": 507
        },
        "collapsed": true,
        "id": "40fz9LpBksm4",
        "outputId": "723cfd73-836c-46e1-d941-b3ced49243b1"
      },
      "execution_count": null,
      "outputs": [
        {
          "output_type": "stream",
          "name": "stdout",
          "text": [
            "Por favor, sube el archivo Excel con las matrices de consumo:\n"
          ]
        },
        {
          "output_type": "display_data",
          "data": {
            "text/plain": [
              "<IPython.core.display.HTML object>"
            ],
            "text/html": [
              "\n",
              "     <input type=\"file\" id=\"files-e4276506-7fa8-41cd-9d5b-251ecd67f404\" name=\"files[]\" multiple disabled\n",
              "        style=\"border:none\" />\n",
              "     <output id=\"result-e4276506-7fa8-41cd-9d5b-251ecd67f404\">\n",
              "      Upload widget is only available when the cell has been executed in the\n",
              "      current browser session. Please rerun this cell to enable.\n",
              "      </output>\n",
              "      <script>// Copyright 2017 Google LLC\n",
              "//\n",
              "// Licensed under the Apache License, Version 2.0 (the \"License\");\n",
              "// you may not use this file except in compliance with the License.\n",
              "// You may obtain a copy of the License at\n",
              "//\n",
              "//      http://www.apache.org/licenses/LICENSE-2.0\n",
              "//\n",
              "// Unless required by applicable law or agreed to in writing, software\n",
              "// distributed under the License is distributed on an \"AS IS\" BASIS,\n",
              "// WITHOUT WARRANTIES OR CONDITIONS OF ANY KIND, either express or implied.\n",
              "// See the License for the specific language governing permissions and\n",
              "// limitations under the License.\n",
              "\n",
              "/**\n",
              " * @fileoverview Helpers for google.colab Python module.\n",
              " */\n",
              "(function(scope) {\n",
              "function span(text, styleAttributes = {}) {\n",
              "  const element = document.createElement('span');\n",
              "  element.textContent = text;\n",
              "  for (const key of Object.keys(styleAttributes)) {\n",
              "    element.style[key] = styleAttributes[key];\n",
              "  }\n",
              "  return element;\n",
              "}\n",
              "\n",
              "// Max number of bytes which will be uploaded at a time.\n",
              "const MAX_PAYLOAD_SIZE = 100 * 1024;\n",
              "\n",
              "function _uploadFiles(inputId, outputId) {\n",
              "  const steps = uploadFilesStep(inputId, outputId);\n",
              "  const outputElement = document.getElementById(outputId);\n",
              "  // Cache steps on the outputElement to make it available for the next call\n",
              "  // to uploadFilesContinue from Python.\n",
              "  outputElement.steps = steps;\n",
              "\n",
              "  return _uploadFilesContinue(outputId);\n",
              "}\n",
              "\n",
              "// This is roughly an async generator (not supported in the browser yet),\n",
              "// where there are multiple asynchronous steps and the Python side is going\n",
              "// to poll for completion of each step.\n",
              "// This uses a Promise to block the python side on completion of each step,\n",
              "// then passes the result of the previous step as the input to the next step.\n",
              "function _uploadFilesContinue(outputId) {\n",
              "  const outputElement = document.getElementById(outputId);\n",
              "  const steps = outputElement.steps;\n",
              "\n",
              "  const next = steps.next(outputElement.lastPromiseValue);\n",
              "  return Promise.resolve(next.value.promise).then((value) => {\n",
              "    // Cache the last promise value to make it available to the next\n",
              "    // step of the generator.\n",
              "    outputElement.lastPromiseValue = value;\n",
              "    return next.value.response;\n",
              "  });\n",
              "}\n",
              "\n",
              "/**\n",
              " * Generator function which is called between each async step of the upload\n",
              " * process.\n",
              " * @param {string} inputId Element ID of the input file picker element.\n",
              " * @param {string} outputId Element ID of the output display.\n",
              " * @return {!Iterable<!Object>} Iterable of next steps.\n",
              " */\n",
              "function* uploadFilesStep(inputId, outputId) {\n",
              "  const inputElement = document.getElementById(inputId);\n",
              "  inputElement.disabled = false;\n",
              "\n",
              "  const outputElement = document.getElementById(outputId);\n",
              "  outputElement.innerHTML = '';\n",
              "\n",
              "  const pickedPromise = new Promise((resolve) => {\n",
              "    inputElement.addEventListener('change', (e) => {\n",
              "      resolve(e.target.files);\n",
              "    });\n",
              "  });\n",
              "\n",
              "  const cancel = document.createElement('button');\n",
              "  inputElement.parentElement.appendChild(cancel);\n",
              "  cancel.textContent = 'Cancel upload';\n",
              "  const cancelPromise = new Promise((resolve) => {\n",
              "    cancel.onclick = () => {\n",
              "      resolve(null);\n",
              "    };\n",
              "  });\n",
              "\n",
              "  // Wait for the user to pick the files.\n",
              "  const files = yield {\n",
              "    promise: Promise.race([pickedPromise, cancelPromise]),\n",
              "    response: {\n",
              "      action: 'starting',\n",
              "    }\n",
              "  };\n",
              "\n",
              "  cancel.remove();\n",
              "\n",
              "  // Disable the input element since further picks are not allowed.\n",
              "  inputElement.disabled = true;\n",
              "\n",
              "  if (!files) {\n",
              "    return {\n",
              "      response: {\n",
              "        action: 'complete',\n",
              "      }\n",
              "    };\n",
              "  }\n",
              "\n",
              "  for (const file of files) {\n",
              "    const li = document.createElement('li');\n",
              "    li.append(span(file.name, {fontWeight: 'bold'}));\n",
              "    li.append(span(\n",
              "        `(${file.type || 'n/a'}) - ${file.size} bytes, ` +\n",
              "        `last modified: ${\n",
              "            file.lastModifiedDate ? file.lastModifiedDate.toLocaleDateString() :\n",
              "                                    'n/a'} - `));\n",
              "    const percent = span('0% done');\n",
              "    li.appendChild(percent);\n",
              "\n",
              "    outputElement.appendChild(li);\n",
              "\n",
              "    const fileDataPromise = new Promise((resolve) => {\n",
              "      const reader = new FileReader();\n",
              "      reader.onload = (e) => {\n",
              "        resolve(e.target.result);\n",
              "      };\n",
              "      reader.readAsArrayBuffer(file);\n",
              "    });\n",
              "    // Wait for the data to be ready.\n",
              "    let fileData = yield {\n",
              "      promise: fileDataPromise,\n",
              "      response: {\n",
              "        action: 'continue',\n",
              "      }\n",
              "    };\n",
              "\n",
              "    // Use a chunked sending to avoid message size limits. See b/62115660.\n",
              "    let position = 0;\n",
              "    do {\n",
              "      const length = Math.min(fileData.byteLength - position, MAX_PAYLOAD_SIZE);\n",
              "      const chunk = new Uint8Array(fileData, position, length);\n",
              "      position += length;\n",
              "\n",
              "      const base64 = btoa(String.fromCharCode.apply(null, chunk));\n",
              "      yield {\n",
              "        response: {\n",
              "          action: 'append',\n",
              "          file: file.name,\n",
              "          data: base64,\n",
              "        },\n",
              "      };\n",
              "\n",
              "      let percentDone = fileData.byteLength === 0 ?\n",
              "          100 :\n",
              "          Math.round((position / fileData.byteLength) * 100);\n",
              "      percent.textContent = `${percentDone}% done`;\n",
              "\n",
              "    } while (position < fileData.byteLength);\n",
              "  }\n",
              "\n",
              "  // All done.\n",
              "  yield {\n",
              "    response: {\n",
              "      action: 'complete',\n",
              "    }\n",
              "  };\n",
              "}\n",
              "\n",
              "scope.google = scope.google || {};\n",
              "scope.google.colab = scope.google.colab || {};\n",
              "scope.google.colab._files = {\n",
              "  _uploadFiles,\n",
              "  _uploadFilesContinue,\n",
              "};\n",
              "})(self);\n",
              "</script> "
            ]
          },
          "metadata": {}
        },
        {
          "output_type": "stream",
          "name": "stdout",
          "text": [
            "Saving Consumos_AGPE_Condominio_112024.xlsx to Consumos_AGPE_Condominio_112024.xlsx\n",
            "Archivo 'Consumos_AGPE_Condominio_112024.xlsx' cargado con éxito.\n",
            "Vista previa de los datos cargados:\n",
            "    Año  Mes  Medidor    NIU                  Energía Sigla energía  Día  \\\n",
            "0  2024   11  2918909  49073  KiloWatt hour delivered          kWhD    1   \n",
            "1  2024   11  2918909  49073  KiloWatt hour delivered          kWhD    2   \n",
            "2  2024   11  2918909  49073  KiloWatt hour delivered          kWhD    3   \n",
            "3  2024   11  2918909  49073  KiloWatt hour delivered          kWhD    4   \n",
            "4  2024   11  2918909  49073  KiloWatt hour delivered          kWhD    5   \n",
            "\n",
            "       Fecha    0    1  ...     14     15     16   17   18   19   20   21  \\\n",
            "0 2024-11-01  0.0  0.0  ...  5.790  3.094  0.032  0.0  0.0  0.0  0.0  0.0   \n",
            "1 2024-11-02  0.0  0.0  ...  6.099  3.376  0.239  0.0  0.0  0.0  0.0  0.0   \n",
            "2 2024-11-03  0.0  0.0  ...  5.303  1.970  1.016  0.0  0.0  0.0  0.0  0.0   \n",
            "3 2024-11-04  0.0  0.0  ...  6.650  2.656  0.010  0.0  0.0  0.0  0.0  0.0   \n",
            "4 2024-11-05  0.0  0.0  ...  3.824  4.710  0.569  0.0  0.0  0.0  0.0  0.0   \n",
            "\n",
            "    22   23  \n",
            "0  0.0  0.0  \n",
            "1  0.0  0.0  \n",
            "2  0.0  0.0  \n",
            "3  0.0  0.0  \n",
            "4  0.0  0.0  \n",
            "\n",
            "[5 rows x 32 columns]\n"
          ]
        }
      ]
    },
    {
      "cell_type": "markdown",
      "source": [
        "En este paso eliminamos las filas con valores 'kVarhD' y 'kVarhR'"
      ],
      "metadata": {
        "id": "xIAUuRWmnZFz"
      }
    },
    {
      "cell_type": "code",
      "source": [
        "# Paso 5: Tratamiento de los datos\n",
        "def filtrar_datos(df):\n",
        "    print(\"Eliminando filas con valores 'kVarhD' y 'kVarhR' en la columna 'Sigla energía'...\")\n",
        "    matriz_filtrada = df[~df['Sigla energía'].isin(['kVarhD', 'kVarhR'])]\n",
        "    print(\"Filtrado completado. Vista previa de los datos filtrados:\")\n",
        "    print(matriz_filtrada.head())\n",
        "    return matriz_filtrada\n",
        "\n",
        "# Aplicar tratamiento si los datos fueron cargados correctamente\n",
        "if matriz_consumo is not None:\n",
        "    matriz_consumo_filtrada = filtrar_datos(matriz_consumo)"
      ],
      "metadata": {
        "colab": {
          "base_uri": "https://localhost:8080/"
        },
        "collapsed": true,
        "id": "Dg0hFwRnnRcx",
        "outputId": "40d5c368-350b-44cf-a646-7499d095fd66"
      },
      "execution_count": null,
      "outputs": [
        {
          "output_type": "stream",
          "name": "stdout",
          "text": [
            "Eliminando filas con valores 'kVarhD' y 'kVarhR' en la columna 'Sigla energía'...\n",
            "Filtrado completado. Vista previa de los datos filtrados:\n",
            "    Año  Mes  Medidor    NIU                  Energía Sigla energía  Día  \\\n",
            "0  2024   11  2918909  49073  KiloWatt hour delivered          kWhD    1   \n",
            "1  2024   11  2918909  49073  KiloWatt hour delivered          kWhD    2   \n",
            "2  2024   11  2918909  49073  KiloWatt hour delivered          kWhD    3   \n",
            "3  2024   11  2918909  49073  KiloWatt hour delivered          kWhD    4   \n",
            "4  2024   11  2918909  49073  KiloWatt hour delivered          kWhD    5   \n",
            "\n",
            "       Fecha    0    1  ...     14     15     16   17   18   19   20   21  \\\n",
            "0 2024-11-01  0.0  0.0  ...  5.790  3.094  0.032  0.0  0.0  0.0  0.0  0.0   \n",
            "1 2024-11-02  0.0  0.0  ...  6.099  3.376  0.239  0.0  0.0  0.0  0.0  0.0   \n",
            "2 2024-11-03  0.0  0.0  ...  5.303  1.970  1.016  0.0  0.0  0.0  0.0  0.0   \n",
            "3 2024-11-04  0.0  0.0  ...  6.650  2.656  0.010  0.0  0.0  0.0  0.0  0.0   \n",
            "4 2024-11-05  0.0  0.0  ...  3.824  4.710  0.569  0.0  0.0  0.0  0.0  0.0   \n",
            "\n",
            "    22   23  \n",
            "0  0.0  0.0  \n",
            "1  0.0  0.0  \n",
            "2  0.0  0.0  \n",
            "3  0.0  0.0  \n",
            "4  0.0  0.0  \n",
            "\n",
            "[5 rows x 32 columns]\n"
          ]
        }
      ]
    },
    {
      "cell_type": "markdown",
      "source": [
        "En este paso generamos una tabla de la sumatoria de energía por NIU y energía"
      ],
      "metadata": {
        "id": "m_A-l1iYy4J5"
      }
    },
    {
      "cell_type": "code",
      "source": [
        "# Paso 6: Crear tabla con la sumatoria mensual por NIU y Sigla energía\n",
        "def crear_tabla_sumatoria_mensual(df):\n",
        "    print(\"Creando tabla con la sumatoria mensual de los valores por NIU y Sigla energía...\")\n",
        "    columnas_horarias = [str(i) for i in range(24)]  # Columnas de 0 a 23\n",
        "    df = df.copy()  # Crear una copia explícita del DataFrame para evitar advertencias\n",
        "    df['Total Mensual'] = df[columnas_horarias].sum(axis=1)  # Sumar todas las columnas horarias por fila\n",
        "    # Filtrar solo para 'kWhD' y 'kWhR'\n",
        "    df = df[df['Sigla energía'].isin(['kWhD', 'kWhR'])]\n",
        "    # Crear columnas separadas para kWhD y kWhR y ordenar\n",
        "    tabla_sumatoria = df.pivot_table(\n",
        "        index='NIU',\n",
        "        columns='Sigla energía',\n",
        "        values='Total Mensual',\n",
        "        aggfunc='sum',\n",
        "        fill_value=0\n",
        "    ).reset_index()\n",
        "    tabla_sumatoria = tabla_sumatoria.rename_axis(None, axis=1)  # Eliminar nombres de índices\n",
        "    tabla_sumatoria = tabla_sumatoria.rename(columns={\n",
        "        'kWhR': 'Energía importada',\n",
        "        'kWhD': 'Energía exportada'\n",
        "    })\n",
        "    tabla_sumatoria = tabla_sumatoria[['NIU', 'Energía importada', 'Energía exportada']]  # Ordenar columnas\n",
        "    print(\"Tabla de sumatoria mensual creada. Vista previa:\")\n",
        "    print(tabla_sumatoria.head())\n",
        "    return tabla_sumatoria\n",
        "\n",
        "# Generar la tabla de sumatoria mensual si los datos fueron filtrados correctamente\n",
        "if 'matriz_consumo_filtrada' in locals():\n",
        "    tabla_sumatoria_mensual = crear_tabla_sumatoria_mensual(matriz_consumo_filtrada)"
      ],
      "metadata": {
        "colab": {
          "base_uri": "https://localhost:8080/"
        },
        "id": "ltr8BLojwpMr",
        "outputId": "2ae97a60-56e3-43d6-834e-40bf70461aaf"
      },
      "execution_count": null,
      "outputs": [
        {
          "output_type": "stream",
          "name": "stdout",
          "text": [
            "Creando tabla con la sumatoria mensual de los valores por NIU y Sigla energía...\n",
            "Tabla de sumatoria mensual creada. Vista previa:\n",
            "   NIU  Energía importada  Energía exportada\n",
            "0  227            665.810            356.740\n",
            "1  234            402.912            533.454\n",
            "2  505            954.010            436.990\n",
            "3  515            432.314            435.984\n",
            "4  520            862.638           1037.690\n"
          ]
        }
      ]
    },
    {
      "cell_type": "code",
      "source": [
        "# Paso 7: Añadir columnas calculadas\n",
        "if 'tabla_sumatoria_mensual' in locals():\n",
        "    print(\"Añadiendo columnas calculadas Exc1, Exc2 y Consumo...\")\n",
        "    tabla_sumatoria_mensual['Exc1'] = tabla_sumatoria_mensual.apply(\n",
        "        lambda row: row['Energía exportada'] if row['Energía exportada'] <= row['Energía importada'] else row['Energía importada'], axis=1\n",
        "    )\n",
        "    tabla_sumatoria_mensual['Exc2'] = tabla_sumatoria_mensual.apply(\n",
        "        lambda row: row['Energía exportada'] - row['Energía importada'] if row['Energía exportada'] > row['Energía importada'] else 0, axis=1\n",
        "    )\n",
        "    tabla_sumatoria_mensual['Consumo'] = tabla_sumatoria_mensual['Energía importada'] - tabla_sumatoria_mensual['Exc1']\n",
        "\n",
        "    # Redondear las columnas a 2 decimales\n",
        "    columnas_a_redondear = ['Energía importada', 'Energía exportada', 'Exc1', 'Exc2', 'Consumo']\n",
        "    tabla_sumatoria_mensual[columnas_a_redondear] = tabla_sumatoria_mensual[columnas_a_redondear].round(2)\n",
        "\n",
        "    print(\"Columnas añadidas y redondeadas a dos decimales. Vista previa:\")\n",
        "    print(tabla_sumatoria_mensual.head())\n",
        "\n",
        "    # Exportar la tabla a Excel\n",
        "    mes_anio = matriz_consumo['Fecha'].dt.strftime('%m_%Y').iloc[0]  # Obtener mes (mm) y año (AAAA) de la columna Fecha\n",
        "    nombre_archivo = f\"consumos_agpe_{mes_anio}.xlsx\"\n",
        "    tabla_sumatoria_mensual.to_excel(nombre_archivo, index=False)\n",
        "    print(f\"Tabla exportada a Excel con el nombre: {nombre_archivo}\")\n"
      ],
      "metadata": {
        "colab": {
          "base_uri": "https://localhost:8080/"
        },
        "id": "ivpedDoRe9c9",
        "outputId": "f3e88508-ff56-4c47-ea90-d5afaab61004"
      },
      "execution_count": null,
      "outputs": [
        {
          "output_type": "stream",
          "name": "stdout",
          "text": [
            "Añadiendo columnas calculadas Exc1, Exc2 y Consumo...\n",
            "Columnas añadidas y redondeadas a dos decimales. Vista previa:\n",
            "   NIU  Energía importada  Energía exportada    Exc1    Exc2  Consumo\n",
            "0  227             665.81             356.74  356.74    0.00   309.07\n",
            "1  234             402.91             533.45  402.91  130.54     0.00\n",
            "2  505             954.01             436.99  436.99    0.00   517.02\n",
            "3  515             432.31             435.98  432.31    3.67     0.00\n",
            "4  520             862.64            1037.69  862.64  175.05     0.00\n",
            "Tabla exportada a Excel con el nombre: consumos_agpe_11_2024.xlsx\n"
          ]
        }
      ]
    },
    {
      "cell_type": "markdown",
      "source": [
        "En este paso generamos la tabla de los Excedentes 1 - Exc1"
      ],
      "metadata": {
        "id": "SEasldD6wPko"
      }
    },
    {
      "cell_type": "code",
      "source": [
        "# Paso 8: Construir nueva tabla ajustada por consumo horario\n",
        "if 'matriz_consumo_filtrada' in locals() and 'tabla_sumatoria_mensual' in locals():\n",
        "    print(\"Construyendo nueva tabla ajustada por consumo horario basado en kWhD y kWhR...\")\n",
        "\n",
        "    def ajustar_consumos_por_niu(grupo, total_kWhR):\n",
        "        acumulado = 0\n",
        "        resultado = []\n",
        "\n",
        "        for _, fila in grupo.iterrows():\n",
        "            fila_ajustada = fila.copy()\n",
        "            for hora in range(24):\n",
        "                consumo_horario = fila[str(hora)]\n",
        "                if acumulado + consumo_horario <= total_kWhR:\n",
        "                    fila_ajustada[str(hora)] = consumo_horario\n",
        "                    acumulado += consumo_horario\n",
        "                else:\n",
        "                    fila_ajustada[str(hora)] = total_kWhR - acumulado\n",
        "                    acumulado = total_kWhR\n",
        "                    break\n",
        "            if acumulado >= total_kWhR:\n",
        "                for hora_restante in range(hora + 1, 24):\n",
        "                    fila_ajustada[str(hora_restante)] = 0\n",
        "            resultado.append(fila_ajustada)\n",
        "\n",
        "        return pd.DataFrame(resultado)\n",
        "\n",
        "    nueva_tabla = []\n",
        "    for niu, grupo in matriz_consumo_filtrada.groupby('NIU'):\n",
        "        if 'Energía importada' in tabla_sumatoria_mensual.columns:\n",
        "            total_kWhR = tabla_sumatoria_mensual.loc[tabla_sumatoria_mensual['NIU'] == niu, 'Energía importada'].iloc[0]\n",
        "            grupo_filtrado = grupo[grupo['Sigla energía'] == 'kWhD']\n",
        "            nueva_tabla.append(ajustar_consumos_por_niu(grupo_filtrado, total_kWhR))\n",
        "\n",
        "    nueva_tabla = pd.concat(nueva_tabla, ignore_index=True)\n",
        "    print(\"Nueva tabla ajustada construida. Vista previa:\")\n",
        "    print(nueva_tabla.head())\n",
        "\n",
        "    # Exportar la nueva tabla a Excel\n",
        "    nombre_archivo_ajustada = f\"tabla_exc_1_{mes_anio}.xlsx\"\n",
        "    nueva_tabla.to_excel(nombre_archivo_ajustada, index=False)\n",
        "    print(f\"Nueva tabla ajustada exportada a Excel con el nombre: {nombre_archivo_ajustada}\")"
      ],
      "metadata": {
        "colab": {
          "base_uri": "https://localhost:8080/"
        },
        "id": "wNYEMsnPY0gg",
        "outputId": "f46cc0ad-cfad-4acc-a0fb-da0bcdead05b"
      },
      "execution_count": 7,
      "outputs": [
        {
          "output_type": "stream",
          "name": "stdout",
          "text": [
            "Construyendo nueva tabla ajustada por consumo horario basado en kWhD y kWhR...\n",
            "Nueva tabla ajustada construida. Vista previa:\n",
            "    Año  Mes   Medidor  NIU                  Energía Sigla energía  Día  \\\n",
            "0  2024   11  88606737  227  KiloWatt hour delivered          kWhD    1   \n",
            "1  2024   11  88606737  227  KiloWatt hour delivered          kWhD    2   \n",
            "2  2024   11  88606737  227  KiloWatt hour delivered          kWhD    3   \n",
            "3  2024   11  88606737  227  KiloWatt hour delivered          kWhD    4   \n",
            "4  2024   11  88606737  227  KiloWatt hour delivered          kWhD    5   \n",
            "\n",
            "       Fecha    0    1  ...     14     15     16     17   18   19   20   21  \\\n",
            "0 2024-11-01  0.0  0.0  ...  1.640  0.734  0.206  0.000  0.0  0.0  0.0  0.0   \n",
            "1 2024-11-02  0.0  0.0  ...  2.104  1.092  0.386  0.002  0.0  0.0  0.0  0.0   \n",
            "2 2024-11-03  0.0  0.0  ...  0.798  0.476  0.080  0.000  0.0  0.0  0.0  0.0   \n",
            "3 2024-11-04  0.0  0.0  ...  1.190  0.632  0.080  0.002  0.0  0.0  0.0  0.0   \n",
            "4 2024-11-05  0.0  0.0  ...  1.266  1.242  0.204  0.016  0.0  0.0  0.0  0.0   \n",
            "\n",
            "    22   23  \n",
            "0  0.0  0.0  \n",
            "1  0.0  0.0  \n",
            "2  0.0  0.0  \n",
            "3  0.0  0.0  \n",
            "4  0.0  0.0  \n",
            "\n",
            "[5 rows x 32 columns]\n",
            "Nueva tabla ajustada exportada a Excel con el nombre: tabla_exc_1_11_2024.xlsx\n"
          ]
        }
      ]
    },
    {
      "cell_type": "markdown",
      "source": [
        "En este paso generamos la tabla de los Excedentes 2 - Exc2"
      ],
      "metadata": {
        "id": "wElu9q-v0PJB"
      }
    }
  ]
}